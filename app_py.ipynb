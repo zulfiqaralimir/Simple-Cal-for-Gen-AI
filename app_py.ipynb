{
  "nbformat": 4,
  "nbformat_minor": 0,
  "metadata": {
    "colab": {
      "provenance": [],
      "authorship_tag": "ABX9TyMU0Ab/qaEUcddoA2qmtNTv",
      "include_colab_link": true
    },
    "kernelspec": {
      "name": "python3",
      "display_name": "Python 3"
    },
    "language_info": {
      "name": "python"
    }
  },
  "cells": [
    {
      "cell_type": "markdown",
      "metadata": {
        "id": "view-in-github",
        "colab_type": "text"
      },
      "source": [
        "<a href=\"https://colab.research.google.com/github/zulfiqaralimir/Simple-Cal-for-Gen-AI/blob/master/app_py.ipynb\" target=\"_parent\"><img src=\"https://colab.research.google.com/assets/colab-badge.svg\" alt=\"Open In Colab\"/></a>"
      ]
    },
    {
      "cell_type": "code",
      "execution_count": 1,
      "metadata": {
        "colab": {
          "base_uri": "https://localhost:8080/"
        },
        "id": "XTDoJDwaPAOQ",
        "outputId": "5ed979bb-4bc9-4167-f631-2c2960e4ecfe"
      },
      "outputs": [
        {
          "output_type": "stream",
          "name": "stdout",
          "text": [
            "Select operation:\n",
            "1. Add\n",
            "2. Subtract\n",
            "3. Multiply\n",
            "4. Divide\n",
            "Enter choice(1/2/3/4): 3\n",
            "Enter first number: 60\n",
            "Enter second number: 100\n",
            "The result is: 6000.0\n"
          ]
        }
      ],
      "source": [
        "import streamlit as st\n",
        "\n",
        "# Calculator functions\n",
        "def add(x, y):\n",
        "    return x + y\n",
        "\n",
        "def subtract(x, y):\n",
        "    return x - y\n",
        "\n",
        "def multiply(x, y):\n",
        "    return x * y\n",
        "\n",
        "def divide(x, y):\n",
        "    if y == 0:\n",
        "        return \"Error! Division by zero.\"\n",
        "    else:\n",
        "        return x / y\n",
        "\n",
        "# Streamlit app code\n",
        "def main():\n",
        "    st.title(\"Simple Calculator\")\n",
        "\n",
        "    # Input numbers\n",
        "    num1 = st.number_input(\"Enter the first number\", format=\"%.2f\")\n",
        "    num2 = st.number_input(\"Enter the second number\", format=\"%.2f\")\n",
        "\n",
        "    # Dropdown menu for operation selection\n",
        "    operation = st.selectbox(\"Select Operation\", (\"Add\", \"Subtract\", \"Multiply\", \"Divide\"))\n",
        "\n",
        "    # When the user clicks the button\n",
        "    if st.button(\"Calculate\"):\n",
        "        if operation == \"Add\":\n",
        "            result = add(num1, num2)\n",
        "        elif operation == \"Subtract\":\n",
        "            result = subtract(num1, num2)\n",
        "        elif operation == \"Multiply\":\n",
        "            result = multiply(num1, num2)\n",
        "        elif operation == \"Divide\":\n",
        "            result = divide(num1, num2)\n",
        "\n",
        "        # Display the result\n",
        "        st.success(f\"The result is: {result}\")\n",
        "\n",
        "if __name__ == \"__main__\":\n",
        "    main()\n"
      ]
    }
  ]
}